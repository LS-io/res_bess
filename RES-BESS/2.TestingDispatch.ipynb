{
 "cells": [
  {
   "cell_type": "markdown",
   "metadata": {},
   "source": [
    "# Dispatch Optimisation Problem\n",
    "1. Define/Create model\n",
    "    * Abstract or Concrete\n",
    "2. Populate parameters\n",
    "3. Decision variables\n",
    "4. Objective function\n",
    "5. Constraints\n",
    "6. Implementation"
   ]
  },
  {
   "cell_type": "markdown",
   "metadata": {},
   "source": [
    "## 1. Theoretical description"
   ]
  },
  {
   "cell_type": "markdown",
   "metadata": {},
   "source": [
    "### Formulation of the (economic) Dispatch problem\n",
    "* Packages used:\n",
    "    * Pyomo\n",
    "    * ...\n",
    "\n",
    "#### 1. Parameters\n",
    "* PV-specific:\n",
    "    * *None*\n",
    "* BESS-specific:\n",
    "    * Max Storage Capacity\n",
    "    * Charging Capacity == Discharge Capacity\n",
    "    * Charge-Efficiency\n",
    "    * Discharge-Efficiency\n",
    "    * *Roundtrip Efficiency\n",
    "    * Mac SoC\n",
    "    * Min SoC\n",
    "* Other system-specific parameters:\n",
    "    * Inverter efficiency\n",
    "    * PV-BESS system cost\n",
    "    * Max Grid Volume\n",
    "* Other parameters that the dispatcher requires:\n",
    "    * Profit {calculated from the power flows and electricity price at each time-step *t*}\n",
    "    * State-of-Charge [SoC] {traced/calculated from the SoC[*t-1*] and power flows to/from BESS}\n",
    "\n",
    "#### 2. Decision Variables\n",
    "*Decision variables in the dispatch model are not the same as in the global optimisation problem. In the dispatch problem, the decision variables are the different power flows at each time-step *t*\n",
    "* PV_to_Load\n",
    "* PV_to_BESS\n",
    "* PV_curtailment\n",
    "* PV_to_Grid\n",
    "* BESS_to_Load\n",
    "* BESS_to_Grid\n",
    "* Grid_to_Load\n",
    "* Grid_to_BESS\n",
    "\n",
    "#### 3. Objective Function\n",
    "* MinimiseCost = \n",
    "    $$\n",
    "    min( \n",
    "        \\sum_{t=o}^{8760} (\n",
    "            C_{grid}^i[t] * P_{Grid-to-Load}[t]                                                     %cost of electricity from grid\n",
    "            + C_{PV+BESS}^i[t] * [P_{PV-to-Load}[t] + P_{BESS-to-Load}[t]]                          %cost of electricity from PV-BESS system\n",
    "            + C_{penalty}^{Curtailment} * P_{Curtailment}[t]                                        %penalty for curtailing PV production\n",
    "            - C_{grid}^i[t] * [[P_{BESS-to-Grid}[t] + P_{PV-to-Grid}[t] ] - P_{Grid-to-BESS}[t]]    %profit from energy arbitrage\n",
    "        )\n",
    "    )\n",
    "    $$\n",
    "\n",
    "#### 4. Constraints\n",
    "* Load fulfilment\n",
    "    $$\n",
    "        P_{Load}[t] = P_{PV-to-Load}[t] + P_{BESS-to-Load}[t] + P_{Grid}[t]\n",
    "    $$\n",
    "* Solar production\n",
    "    $$\n",
    "        P_{PV production}[t] = \\frac{P_{PV-to-Load}[t] + P_{PV-to-BESS}[t] + P_{PV-to-Grid}[t]}{\\xi_{inverter}} + P_{Curtailment}[t]\n",
    "    $$\n",
    "* SoC range\n",
    "    $$\n",
    "        SoC^{min} < SoC[t] < SoC^{max} ; \\qquad \\forall \\ \\ t\n",
    "    $$\n",
    "* SoC tracking\n",
    "    $$\n",
    "        SoC[t] = (\n",
    "            SoC[t-1]\n",
    "            + ( P_{PV-to-BESS}[t] + P_{Grid-to-BESS}[t] * \\xi_{charge} ) * \\Delta{t}\n",
    "            - \\frac{P_{BESS-to-Load}[t] + P_{BESS-to-Grid}[t]}{\\xi_{discharge}} * \\Delta{t}\n",
    "        )\n",
    "    $$\n",
    "##### 4.1 *Additional* Constraints\n",
    "* Limiting power flows BESS-to-Grid and PV-to-Grid in energy arbitrage\n",
    "    $$\n",
    "        P_{PV-to-Grid}[t] + P_{BESS-to-Grid}[t] <= PowerFlowLimit\n",
    "    $$\n",
    "* Limiting the BESS charging to either charge or discharge in the same hour\n",
    "    $$\n",
    "        \\forall \\quad t; \\qquad (P_{PV-to-BESS}[t], P_{Grid-to-BESS}[t])*ChargingState\\ \\ AND\\ \\ (P_{BESS-to-Load}[t], P_{BESS-to-Grid}[t])*(1-ChargingState)\n",
    "    $$\n",
    "    * Subject to:\n",
    "    * SoC tracking\n",
    "    $$\n",
    "        SoC[t] = (\n",
    "            SoC[t-1]\n",
    "            + ( P_{PV-to-BESS}[t] + P_{Grid-to-BESS}[t] * \\xi_{charge} * ChargingState) * \\Delta{t}\n",
    "            - \\frac{P_{BESS-to-Load}[t] + P_{BESS-to-Grid}[t]}{\\xi_{discharge}} * (1-ChargingState) * \\Delta{t}\n",
    "        )\n",
    "    $$\n",
    "___\n",
    "___"
   ]
  },
  {
   "cell_type": "markdown",
   "metadata": {},
   "source": [
    "The problem will be defined as a worker/tasks set, where the power flows are different \"workers\" and hours in day are differet \"tasks\"\n",
    "The values in each cell has to be the cost, so I will eventually have to make some sort of a generator to populate it quickly\n",
    "\n",
    "| Flow \\ Hour |  1 |  2 |  3 |  4 |  5 |  6 |  7 |  8 |  9 | 10 | ... | 48 | H\n",
    "|:---------------:|---:|---:|---:|---:|---:|---:|---:|---:|---:|---:|---:|---:|---:\n",
    "| P_PV-to-BESS      | $$p_{f, h}$$ |  $$p_{f, h}$$ |  $$p_{f, h}$$ | $$p_{f, h}$$ | $$p_{f, h}$$ | $$p_{f, h}$$ | $$p_{f, h}$$ | $$p_{f, h}$$ | $$p_{f, h}$$ | $$p_{f, h}$$ | ... | - |\n",
    "| P_PV-to-Load      | $$p_{f, h}$$ |  $$p_{f, h}$$ |  $$p_{f, h}$$ | $$p_{f, h}$$ | $$p_{f, h}$$ | $$p_{f, h}$$ | $$p_{f, h}$$ | $$p_{f, h}$$ | $$p_{f, h}$$ | $$p_{f, h}$$ | ... | - |\n",
    "| P_BESS-to-Load    | $$p_{f, h}$$ |  $$p_{f, h}$$ |  $$p_{f, h}$$ | $$p_{f, h}$$ | $$p_{f, h}$$ | $$p_{f, h}$$ | $$p_{f, h}$$ | $$p_{f, h}$$ | $$p_{f, h}$$ | $$p_{f, h}$$ | ... | - |\n",
    "| ...               | ... | ... | ... | ... | ... | ... | ... | ... | ... | ... | ... | - |\n",
    "| P_n               | - |  - |  - |  - | - |  - | - | - | - | - | - | - |\n",
    "**F**\n",
    "\n",
    "Subject to:\n",
    "$$\n",
    "minimize[\n",
    "    \\quad\n",
    "    \\sum_{h=1}^{H}\\ (\n",
    "        \\quad\n",
    "        \\sum_{f=1}^{F}\\ (\\ P_{f, h}\\  *\\  Cost_{f, h}\\ )\n",
    "        \\quad\n",
    "    )\n",
    "    \\\n",
    "]\n",
    "$$"
   ]
  },
  {
   "cell_type": "markdown",
   "metadata": {},
   "source": [
    "## 2. Implementation"
   ]
  },
  {
   "cell_type": "markdown",
   "metadata": {},
   "source": [
    "### Implementation notes\n",
    "* General approach (for now) is to use the *ConcreteModel*\n",
    "    * If *AbstractModel*, how could the model parameters,variables,etc be populated from the datafile OR the inputs of the model\n",
    "    * *Why?* --> In the future, the model could be adapted to be compiled and to describe different kinds of and setups of energy systems with different technologies\n",
    "* Be mindful of how the data is loaded and called in the model to avoid integration errors (like the previous error with numpy)\n",
    "* Convert the model to kW (previously MW) to avoid issues/error with integer to float conversion\n",
    "* **OBS!** Since the objective function will be sefined as a double summation function with a general element * factor statement, we need to prepare the cost matrix in a way that reflects energy arbitrage business case. Hence, the \"cost\" of selling energy to the grid is negative.\n",
    "* *OBS!*: SoC[*t*] needs a previous value, so we need to artificially override the initial SoC (or implement an SoC for *t* = -1)\n",
    "* In future implementations/improvements, try converting the time-step to seconds/minutes.\n",
    "    * *Reason* is to have a more realistic dispatch profile where BESS can charge and discharge in the same hour\n",
    "* To keep in mind for validation\n",
    "    * I could also run it with different curtailment penalties and see their effect\n",
    "    * Underlying difference in optimisation problem when optimising only each time-step vs. optimising a time series window"
   ]
  },
  {
   "cell_type": "code",
   "execution_count": null,
   "metadata": {},
   "outputs": [],
   "source": [
    "import pandas as pd\n",
    "import pyomo.environ as pe\n",
    "import pyomo.opt as po"
   ]
  },
  {
   "cell_type": "code",
   "execution_count": null,
   "metadata": {},
   "outputs": [],
   "source": [
    "## To run the dispatcher later for multiple cases\n",
    "## (Reference) Cases to run the dispatcher for after valdiation:\n",
    "power_PV = [0.01, 0.03, 0.05, 0.1, 0.2]\n",
    "power_BESS = [1, 3, 5, 10, 20]\n",
    "time_BESS = [0, 1, 2, 3, 4]\n",
    "optimise_for=   ['Price', 'CO_2_eq']\n",
    "\n",
    "# Create a new list using list comprehension\n",
    "referenceCases = []\n",
    "for i in range(len(power_PV)):\n",
    "    for j in range(len(power_BESS)):\n",
    "        for k in range(len(time_BESS)):\n",
    "            referenceCases.append([power_PV[i], power_BESS[j], power_BESS[j] * time_BESS[k]])\n",
    "\n",
    "#referenceCases\n",
    "\n",
    "## Base case for testing/running the dispatcher\n",
    "## Specifiying system size (as part of the global optimisation problem where the size components are our decision variables)\n",
    "'''\n",
    "Since production is modelled for 100MW, is is specified as a scaling factor, where:\n",
    "0.01    1MW     ==  1 000 kW\n",
    "0.1     10MW    == 10 000 kW\n",
    "'''\n",
    "p_solar=    0.1\n",
    "## In kW\n",
    "p_bess=     5000\n",
    "## In kWh\n",
    "t_bess=     4\n",
    "e_bess=     p_bess * t_bess"
   ]
  },
  {
   "cell_type": "markdown",
   "metadata": {},
   "source": [
    "##### Call in the data, specify the frames of the problem (flows, hours)"
   ]
  },
  {
   "cell_type": "code",
   "execution_count": null,
   "metadata": {},
   "outputs": [],
   "source": [
    "price = pd.read_csv('Data/PriceCurve_SE3_2021.csv', sep = ';')\n",
    "co2_pro = pd.read_csv('Data/production_emissions.csv')\n",
    "co2_con = pd.read_csv('Data/consumption_emissions.csv')\n",
    "pv = pd.read_csv('Data/pv_sam.csv')\n",
    "load = pd.read_csv('Data/LoadCurve.csv', sep = ';')\n",
    "\n",
    "data = load\n",
    "data['Price'] = price['Grid_Price']\n",
    "data['CO_2_eq'] = co2_pro['carbon_intensity_production_avg']\n",
    "data['solar_PV'] = pv\n",
    "\n",
    "#Converting from MW to kW\n",
    "data['Load']= (data['Load'] * 1000)\n",
    "#solar data is already in kW, but needs to be multiplied by the scaling factor\n",
    "data['solar_PV']= (data['solar_PV']) * p_solar\n",
    "data['Price']= (data['Price'] / 1000)\n",
    "data['CO_2_eq']= (data['CO_2_eq'] / 1000)\n",
    "\n",
    "data['Hour']= (data['Hour']).astype('int')\n",
    "\n",
    "#data.head(48)\n",
    "#data.head(10)"
   ]
  },
  {
   "cell_type": "code",
   "execution_count": null,
   "metadata": {},
   "outputs": [],
   "source": [
    "data"
   ]
  },
  {
   "cell_type": "code",
   "execution_count": null,
   "metadata": {},
   "outputs": [],
   "source": [
    "#data.describe()"
   ]
  },
  {
   "cell_type": "code",
   "execution_count": null,
   "metadata": {},
   "outputs": [],
   "source": [
    "## Primary data parameters of our scenarios\n",
    "pv_price= 80                #https://data.nrel.gov/submissions/53 in EUR/kW\n",
    "bess_price= 200             #https://doi.org/10.1016/j.solener.2018.08.061 in EUR/kWh, adjusted for price decreases\n",
    "# pv_opex= 17                 #EUR/kWh ->reference in excel\n",
    "# bess_opex= 0.125            #EUR/kWh ->reference in excel\n",
    "pv_opex= 3\n",
    "bess_opex= 6\n",
    "\n",
    "pv_co2= 33                  #kgCO2eq/kW_powerDC ->reference in excel\n",
    "bess_co2= 100               #kgCO2eq/kWh_capacity ->reference in excel\n",
    "pv_opex_co2= 0              #kgCO2eq/kW_powerDC ->assumption\n",
    "bess_opex_co2= 0            #kgCO2eq/kW_powerDC ->assumption\n",
    "discount_rate= 0.0485       #assumption\n",
    "lifetime_project= 32        #for the project lifetime\n",
    "lifetime_bess= 8            #for the BESS lifetime\n",
    "degradation_rate= 0.025     #assumption (based on reaching 80% SoH in 8 years)\n",
    "\n",
    "params = {\n",
    "    'pv_price':         pv_price,\n",
    "    'bess_price':       bess_price,\n",
    "    'pv_opex':          pv_opex,\n",
    "    'bess_opex':        bess_opex,\n",
    "    'pv_co2':           pv_co2,\n",
    "    'bess_co2':         bess_co2,\n",
    "    'pv_opex_co2':      pv_opex_co2,\n",
    "    'bess_opex_co2':    bess_opex_co2,\n",
    "    'discount_rate':    discount_rate,\n",
    "    'lifetime_project': lifetime_project,\n",
    "    'lifetime_bess':    lifetime_bess,\n",
    "    'degradation_rate': degradation_rate\n",
    "}"
   ]
  },
  {
   "cell_type": "code",
   "execution_count": null,
   "metadata": {},
   "outputs": [],
   "source": [
    "## Define the sets/boundaries of the flow/hour table for our values\n",
    "flows= [\n",
    "    'P_PV_to_Load',\n",
    "    'P_PV_to_BESS',\n",
    "    'P_PV_curtailment',\n",
    "    'P_PV_to_Grid',\n",
    "    'P_BESS_to_Load',\n",
    "    'P_BESS_to_Grid',\n",
    "    'P_Grid_to_Load',\n",
    "    'P_Grid_to_BESS',\n",
    "]\n",
    "\n",
    "hours= list(range(48))\n",
    "\n",
    "\n",
    "## Call in the data for the dispatch model\n",
    "#demand= list(data['Load'][:48])\n",
    "#pv_production= list(data['solar_PV'][:48])\n",
    "demand= {}\n",
    "pv_production= {}\n",
    "for hour in hours:\n",
    "    demand[hour]= data['Load'][hour]\n",
    "    pv_production[hour]= data['solar_PV'][hour]\n",
    "\n",
    "\n",
    "## Grid availability for each hour is set to 1000 MW, should be more than enough for our model demand and any potential BESS demand for energy arbitrage\n",
    "grid_production= 1000000\n",
    "\n",
    "\n",
    "## The intial State-of-Charge for the BESS is 50%\n",
    "soc_initial = e_bess * 0.5\n",
    "## Other BESS parameters\n",
    "efficiency_charge=      0.98\n",
    "efficiency_discharge=   0.96\n",
    "efficiency_inverter=    0.97\n",
    "\n",
    "\n",
    "## Compiling a set for the associated costs of our system flows\n",
    "costs_keys= []\n",
    "for flow in flows:\n",
    "    for hour in hours:\n",
    "        costs_keys.append((flow, hour))\n",
    "\n",
    "\n",
    "costs= {}\n",
    "for i in range(len(costs_keys)):\n",
    "    if costs_keys[i][0] in ['P_Grid_to_Load', 'P_Grid_to_BESS']:\n",
    "        costs[costs_keys[i]]= data['Price'][costs_keys[i][1]]\n",
    "    elif costs_keys[i][0] == 'P_PV_to_Grid':\n",
    "        costs[costs_keys[i]]= (-1) * ((data['Price'][costs_keys[i][1]]) - params['pv_opex']/1000)\n",
    "    elif costs_keys[i][0] in ['P_PV_to_Load', 'P_PV_to_BESS']:\n",
    "        costs[costs_keys[i]]= params['pv_opex']/1000\n",
    "    elif costs_keys[i][0] =='P_BESS_to_Grid':\n",
    "        costs[costs_keys[i]]= (-1) * ((data['Price'][costs_keys[i][1]]) - params['bess_opex']/1000)\n",
    "    elif costs_keys[i][0] == 'P_BESS_to_Load':\n",
    "        costs[costs_keys[i]]= params['bess_opex']/1000\n",
    "    elif costs_keys[i][0] == 'P_PV_curtailment':\n",
    "        costs[costs_keys[i]]= 1000/1000\n",
    "    else:\n",
    "        continue\n",
    "#costs"
   ]
  },
  {
   "cell_type": "code",
   "execution_count": null,
   "metadata": {},
   "outputs": [],
   "source": [
    "#hours[2:9]"
   ]
  },
  {
   "cell_type": "markdown",
   "metadata": {},
   "source": [
    "##### Define model"
   ]
  },
  {
   "cell_type": "code",
   "execution_count": null,
   "metadata": {},
   "outputs": [],
   "source": [
    "## Initialise the model\n",
    "model= pe.ConcreteModel()"
   ]
  },
  {
   "cell_type": "markdown",
   "metadata": {},
   "source": [
    "##### Define Sets"
   ]
  },
  {
   "cell_type": "code",
   "execution_count": null,
   "metadata": {},
   "outputs": [],
   "source": [
    "## Defining the sets for our variables\n",
    "model.flows= pe.Set(initialize= flows, ordered= True)\n",
    "model.hours= pe.Set(initialize= hours, ordered= True)"
   ]
  },
  {
   "cell_type": "code",
   "execution_count": null,
   "metadata": {},
   "outputs": [],
   "source": [
    "#model.display()"
   ]
  },
  {
   "cell_type": "markdown",
   "metadata": {},
   "source": [
    "##### Define Parameters"
   ]
  },
  {
   "cell_type": "code",
   "execution_count": null,
   "metadata": {},
   "outputs": [],
   "source": [
    "## Defining parameters\n",
    "model.grid_production=      pe.Param(initialize= grid_production)\n",
    "model.demand=               pe.Param(model.hours, initialize= demand)\n",
    "model.pv_production=        pe.Param(model.hours, initialize= pv_production)\n",
    "\n",
    "model.Efficiency_charge=    pe.Param(model.hours, initialize= efficiency_charge)\n",
    "model.Efficiency_inverter=  pe.Param(model.hours, initialize= efficiency_discharge)\n",
    "model.Efficiency_discharge= pe.Param(model.hours, initialize= efficiency_inverter)\n",
    "\n",
    "#model.SoCmin=               pe.Param(model.hours, initialize= (e_bess*0.1))\n",
    "#model.SoCmax=               pe.Param(model.hours, initialize= (e_bess*0.9))\n",
    "#model.SoC=                  pe.Param(model.hours, initialize= (e_bess*0.5))\n",
    "\n",
    "model.SoCmin=               pe.Param(initialize= (e_bess*0.1))\n",
    "model.SoCmax=               pe.Param(initialize= (e_bess*0.9))\n",
    "model.SoCinitial=           pe.Param(initialize= soc_initial)\n",
    "model.arbitrageLimit=       pe.Param(model.hours, initialize= (p_solar * 1000000))\n",
    "model.costs=                pe.Param(model.flows, model.hours, initialize=costs, default= 1)"
   ]
  },
  {
   "cell_type": "code",
   "execution_count": null,
   "metadata": {},
   "outputs": [],
   "source": [
    "# model.display()"
   ]
  },
  {
   "cell_type": "code",
   "execution_count": null,
   "metadata": {},
   "outputs": [],
   "source": [
    "#model.grid_production.value"
   ]
  },
  {
   "cell_type": "code",
   "execution_count": null,
   "metadata": {},
   "outputs": [],
   "source": [
    "#model.costs['P_PV_to_Load', 24]"
   ]
  },
  {
   "cell_type": "code",
   "execution_count": null,
   "metadata": {},
   "outputs": [],
   "source": [
    "# model.SoC[0]"
   ]
  },
  {
   "cell_type": "markdown",
   "metadata": {},
   "source": [
    "##### Variables"
   ]
  },
  {
   "cell_type": "code",
   "execution_count": null,
   "metadata": {},
   "outputs": [],
   "source": [
    "#model.hours.data()"
   ]
  },
  {
   "cell_type": "code",
   "execution_count": null,
   "metadata": {},
   "outputs": [],
   "source": [
    "## Defining Variables\n",
    "model.p=    pe.Var(model.flows, model.hours, domain= pe.NonNegativeReals)\n",
    "model.SoC=  pe.Var(model.hours, domain= pe.Reals, bounds= (model.SoCmin, model.SoCmax))"
   ]
  },
  {
   "cell_type": "code",
   "execution_count": null,
   "metadata": {},
   "outputs": [],
   "source": [
    "#model.p.display()"
   ]
  },
  {
   "cell_type": "code",
   "execution_count": null,
   "metadata": {},
   "outputs": [],
   "source": [
    "#model.SoC.display()"
   ]
  },
  {
   "cell_type": "markdown",
   "metadata": {},
   "source": [
    "##### Objective"
   ]
  },
  {
   "cell_type": "code",
   "execution_count": null,
   "metadata": {},
   "outputs": [],
   "source": [
    "## Objective function\n",
    "minCosts = sum(model.p[f, t] * model.costs[f, t] for f in model.flows for t in model.hours)\n",
    "model.objective= pe.Objective(sense= pe.minimize, expr= minCosts)\n",
    "\n",
    "\n",
    "# minCosts= (\n",
    "#     model.p['P_PV_to_Load', t] * model.costs['P_PV_to_Load', t]  \\\n",
    "#     + model.p['P_BESS_to_Load', t] * model.costs['P_BESS_to_Load', t]    \\\n",
    "#     + model.p['P_Grid_to_Load', t] * model.costs['P_Grid_to_Load', t]    \\\n",
    "#     + model.p['P_PV_curtailment', t] * model.costs['P_PV_curtailment', t]\\\n",
    "#     + model.p['P_Grid_to_BESS', t] * model.costs['P_Grid_to_BESS', t]    \\\n",
    "#     - model.p['P_PV_to_Grid', t] * model.costs['P_PV_to_Grid', t]        \\\n",
    "#     - model.p['P_BESS_to_Grid', t] * model.costs['P_BESS_to_Grid', t]    \\\n",
    "#     for t in model.hours\n",
    "# )\n",
    "\n",
    "# model.objective=    pe.Objective(\n",
    "#     sense=  pe.minimize,\n",
    "#     expr=   minCosts\n",
    "# )"
   ]
  },
  {
   "cell_type": "code",
   "execution_count": null,
   "metadata": {},
   "outputs": [],
   "source": [
    "#model.objective.display()"
   ]
  },
  {
   "cell_type": "code",
   "execution_count": null,
   "metadata": {},
   "outputs": [],
   "source": [
    "#model.pprint()"
   ]
  },
  {
   "cell_type": "markdown",
   "metadata": {},
   "source": [
    "##### Constraints & Relations"
   ]
  },
  {
   "cell_type": "code",
   "execution_count": null,
   "metadata": {},
   "outputs": [],
   "source": [
    "## Constraints\n",
    "loadFullfilment=    {t: model.p['P_PV_to_Load', t] + model.p['P_BESS_to_Load', t] + model.p['P_Grid_to_Load', t] == model.demand[t] for t in model.hours}\n",
    "pvProduction=       {t: model.p['P_PV_to_Load', t] + model.p['P_PV_to_BESS', t] + model.p['P_PV_to_Grid', t] + model.p['P_PV_curtailment', t] == model.pv_production[t] for t in model.hours}\n",
    "arbitrageFlow=      {t: (model.p['P_BESS_to_Grid',t] + model.p['P_PV_to_Grid',t]) <= model.arbitrageLimit[t] for t in model.hours}\n",
    "gridFlow=           {t: model.p['P_Grid_to_Load', t] + model.p['P_Grid_to_BESS', t] <= model.grid_production for t in model.hours}"
   ]
  },
  {
   "cell_type": "code",
   "execution_count": null,
   "metadata": {},
   "outputs": [],
   "source": [
    "## Old/Redundant\n",
    "\n",
    "# socTracker=         {\n",
    "#     t: model.SoC[t] == model.SoC[t-1] + ((model.p['P_PV_to_BESS', t] + model.p['P_Grid_to_BESS', t]) * (model.Efficiency_charge * model.Efficiency_inverter)) - ((model.p['P_BESS_to_Load', t] + model.p['P_BESS_to_Grid', t])/ (model.Efficiency_discharge * model.Efficiency_inverter)) for t in model.hours\n",
    "# }\n",
    "# Additional constrains, first run without\n",
    "#chargeState=\n",
    "#arbitrageLimit=\n",
    "\n",
    "#socRangeMin=        e_bess * 0.1 <= (model.SoC[t] for t in hours)\n",
    "#socRangeMin=        {t: model.SoC[t] >= model.SoCmin[t] for t in model.hours}\n",
    "#socRangeMax=        {t: model.SoC[t] <= model.SoCmax[t] for t in model.hours}"
   ]
  },
  {
   "cell_type": "code",
   "execution_count": null,
   "metadata": {},
   "outputs": [],
   "source": [
    "def storage_state(model, t):\n",
    "            if t == model.hours.first():\n",
    "                return model.SoC[t] == model.SoCinitial + ((model.p['P_PV_to_BESS', t] + model.p['P_Grid_to_BESS', t]) * (efficiency_charge * efficiency_inverter)) - ((model.p['P_BESS_to_Load', t] + model.p['P_BESS_to_Grid', t])/ (efficiency_discharge * efficiency_inverter))\n",
    "            else:\n",
    "                return model.SoC[t] == model.SoC[t-1] + ((model.p['P_PV_to_BESS', t] + model.p['P_Grid_to_BESS', t]) * (efficiency_charge * efficiency_inverter)) - ((model.p['P_BESS_to_Load', t] + model.p['P_BESS_to_Grid', t])/ (efficiency_discharge * efficiency_inverter))\n",
    "model.charge_state = pe.Constraint(model.hours, rule = storage_state)"
   ]
  },
  {
   "cell_type": "code",
   "execution_count": null,
   "metadata": {},
   "outputs": [],
   "source": [
    "model.demandRule=       pe.Constraint(model.hours, expr= loadFullfilment)\n",
    "model.pvProductionRule= pe.Constraint(model.hours, expr= pvProduction)\n",
    "model.arbitrageRule=    pe.Constraint(model.hours, expr= arbitrageFlow)\n",
    "model.gridRule=         pe.Constraint(model.hours, expr= gridFlow)\n",
    "#model.socMinRule=       pe.Constraint(model.hours, expr= socRangeMin)\n",
    "#model.socMaxRule=       pe.Constraint(model.hours, expr= socRangeMax)\n",
    "#model.socTracking=      pe.Constraint(model.hours, expr= socTracker)\n",
    "\n",
    "\n",
    "#model.pprint()"
   ]
  },
  {
   "cell_type": "code",
   "execution_count": null,
   "metadata": {},
   "outputs": [],
   "source": [
    "solver= po.SolverFactory('glpk')\n",
    "results= solver.solve(model, tee= False)\n",
    "#results= solver.solve(model, tee= True)"
   ]
  },
  {
   "cell_type": "code",
   "execution_count": null,
   "metadata": {},
   "outputs": [],
   "source": [
    "#results"
   ]
  },
  {
   "cell_type": "code",
   "execution_count": null,
   "metadata": {},
   "outputs": [],
   "source": [
    "print(pe.value(model.objective))"
   ]
  },
  {
   "cell_type": "code",
   "execution_count": null,
   "metadata": {},
   "outputs": [],
   "source": [
    "# for var in model.component_data_objects(pe.Var, active=True):\n",
    "#     if 'SoC' in var.name:\n",
    "#         print(f\"{var.name}: {pe.value(var)}\")\n",
    "#         #print('------------------------------------------------------------')\n",
    "#     else:\n",
    "#         pass\n",
    "\n",
    "# print(' '*150)\n",
    "# print('#'*150)\n",
    "# print('#'*150)\n",
    "# print('#'*150)\n",
    "# print(' '*150)\n",
    "# for var in model.component_data_objects(pe.Var, active=True):\n",
    "#     if 'SoC' in var.name:\n",
    "#         pass\n",
    "#     else:\n",
    "#         #print(f\"{var.name[-3:-1]}: {pe.value(var)}\")\n",
    "#         print(f\"{var.name}: {pe.value(var)}\")\n",
    "#         #print('------------------------------------------------------------')"
   ]
  },
  {
   "cell_type": "code",
   "execution_count": null,
   "metadata": {},
   "outputs": [],
   "source": [
    "#model.p['P_PV_to_Load', 1].value"
   ]
  },
  {
   "cell_type": "markdown",
   "metadata": {},
   "source": [
    "## Exporting results"
   ]
  },
  {
   "cell_type": "code",
   "execution_count": null,
   "metadata": {},
   "outputs": [],
   "source": [
    "flows.append('SoC')\n",
    "#flows"
   ]
  },
  {
   "cell_type": "code",
   "execution_count": null,
   "metadata": {},
   "outputs": [],
   "source": [
    "df_test= pd.DataFrame(index= hours, columns= flows)\n",
    "#df_test"
   ]
  },
  {
   "cell_type": "code",
   "execution_count": null,
   "metadata": {},
   "outputs": [],
   "source": [
    "for flow in flows:\n",
    "    for hour in hours:\n",
    "        if flow != 'SoC':\n",
    "            df_test[flow][hour]= model.p[flow, hour].value\n",
    "        else:\n",
    "            df_test['SoC'][hour]= model.SoC[hour].value\n",
    "df_test= df_test.reset_index()\n",
    "df_test= df_test.rename(columns={'index': 'Hour'})\n",
    "#df_test"
   ]
  },
  {
   "cell_type": "code",
   "execution_count": null,
   "metadata": {},
   "outputs": [],
   "source": [
    "#df_test.info()"
   ]
  },
  {
   "cell_type": "code",
   "execution_count": null,
   "metadata": {},
   "outputs": [],
   "source": [
    "# Convert columns to float\n",
    "for flow in flows:\n",
    "    df_test[flow] = df_test[flow].astype(float)\n",
    "\n",
    "df_test['sum_power_flows'] = df_test.P_PV_to_Load + df_test.P_BESS_to_Load + df_test.P_Grid_to_Load\n",
    "df_test['sum_power_flows'] = df_test['sum_power_flows'].astype(float)\n",
    "df_test['SoC']= (df_test['SoC']/e_bess) *100\n",
    "# Now, check the data types\n",
    "#print(df_test.dtypes)\n"
   ]
  },
  {
   "cell_type": "code",
   "execution_count": null,
   "metadata": {},
   "outputs": [],
   "source": [
    "df_test.plot(\n",
    "    x= 'Hour',\n",
    "    y= [\n",
    "        'P_PV_to_Load',\n",
    "        'P_Grid_to_Load',\n",
    "        'P_BESS_to_Load',\n",
    "        #'P_Grid_to_BESS',\n",
    "        #'P_BESS_to_Grid',\n",
    "        'sum_power_flows'\n",
    "        ]\n",
    ")"
   ]
  },
  {
   "cell_type": "code",
   "execution_count": null,
   "metadata": {},
   "outputs": [],
   "source": [
    "import matplotlib.pyplot as plt"
   ]
  },
  {
   "cell_type": "code",
   "execution_count": null,
   "metadata": {},
   "outputs": [],
   "source": [
    "plt.plot(\n",
    "    df_test.Hour,\n",
    "    df_test.sum_power_flows,\n",
    "    linestyle= 'dashdot',\n",
    "    linewidth= 2\n",
    ")"
   ]
  },
  {
   "cell_type": "code",
   "execution_count": null,
   "metadata": {},
   "outputs": [],
   "source": [
    "plt.stackplot(\n",
    "    df_test.Hour,\n",
    "    df_test.P_PV_to_Load,\n",
    "    df_test.P_Grid_to_Load,\n",
    "    df_test.P_BESS_to_Load,\n",
    "    labels=[\n",
    "        'P_PV_to_Load',\n",
    "        'P_Grid_to_Load',\n",
    "        'P_BESS_to_Load',\n",
    "    ]\n",
    ")\n",
    "plt.plot(df_test.Hour, df_test.sum_power_flows, linestyle= 'dashdot', linewidth= 2)\n",
    "plt.legend(loc='upper left')\n"
   ]
  },
  {
   "cell_type": "code",
   "execution_count": null,
   "metadata": {},
   "outputs": [],
   "source": [
    "# Assuming 'Hour', 'P_PV_to_BESS', 'P_BESS_to_Load', 'P_BESS_to_Grid', 'P_Grid_to_BESS', 'SoC' are columns in df_test\n",
    "fig, ax1 = plt.subplots()\n",
    "\n",
    "# Primary y-axis\n",
    "ax1.plot(df_test['Hour'], df_test[['P_PV_to_BESS', 'P_BESS_to_Load', 'P_BESS_to_Grid', 'P_Grid_to_BESS']])\n",
    "ax1.set_xlabel('Hour')\n",
    "ax1.set_ylabel('Flows [kW]')\n",
    "\n",
    "# Create a twin Axes sharing the xaxis\n",
    "ax2 = ax1.twinx()\n",
    "ax2.plot(df_test['Hour'], df_test['SoC'], 'b', linestyle= 'dashdot')\n",
    "ax2.set_ylabel('SoC [%]', color='b')\n",
    "\n",
    "plt.show()\n"
   ]
  },
  {
   "cell_type": "code",
   "execution_count": null,
   "metadata": {},
   "outputs": [],
   "source": [
    "# Assuming 'Hour', 'P_PV_to_BESS', 'P_BESS_to_Load', 'P_BESS_to_Grid', 'P_Grid_to_BESS', 'SoC' are columns in df_test\n",
    "fig, ax1 = plt.subplots()\n",
    "\n",
    "# Primary y-axis\n",
    "ax1.plot(df_test['Hour'], df_test['P_PV_to_BESS'], label='P_PV_to_BESS')\n",
    "ax1.plot(df_test['Hour'], df_test['P_BESS_to_Load'], label='P_BESS_to_Load')\n",
    "ax1.plot(df_test['Hour'], df_test['P_BESS_to_Grid'], label='P_BESS_to_Grid')\n",
    "ax1.plot(df_test['Hour'], df_test['P_Grid_to_BESS'], label='P_Grid_to_BESS')\n",
    "ax1.set_xlabel('Hour')\n",
    "ax1.set_ylabel('Flows in kW')\n",
    "\n",
    "# Create a twin Axes sharing the xaxis\n",
    "ax2 = ax1.twinx()\n",
    "ax2.plot(df_test['Hour'], df_test['SoC'], 'b', label='SoC', linestyle= 'dashdot')\n",
    "ax2.set_ylabel('SoC', color='b')\n",
    "\n",
    "# Combine legends for both axes\n",
    "lines, labels = ax1.get_legend_handles_labels()\n",
    "lines2, labels2 = ax2.get_legend_handles_labels()\n",
    "ax2.legend(lines + lines2, labels + labels2, loc='upper left')\n",
    "\n",
    "plt.show()\n"
   ]
  },
  {
   "cell_type": "code",
   "execution_count": null,
   "metadata": {},
   "outputs": [],
   "source": [
    "profile= pd.read_csv(\n",
    "    'Results/Batch4/CaseB/dispatch_10_5000_4_price_old.csv.csv',\n",
    "    sep= ',',\n",
    "    index_col=False,\n",
    ")\n",
    "profile['SoC']= (profile['SoC']/20000)*100\n",
    "profile"
   ]
  },
  {
   "cell_type": "code",
   "execution_count": null,
   "metadata": {},
   "outputs": [],
   "source": [
    "week=   25"
   ]
  },
  {
   "cell_type": "code",
   "execution_count": null,
   "metadata": {},
   "outputs": [],
   "source": [
    "fig= plt.figure(\n",
    "    figsize= (25,8),\n",
    ")\n",
    "title= plt.title('P_PV: 10 MW; P_BESS: 5 MW; T_BESS: 4 hr')\n",
    "\n",
    "plt.stackplot(\n",
    "    profile[:168].Hour,\n",
    "    profile[:168].P_PV_to_Load,\n",
    "    profile[:168].P_Grid_to_Load,\n",
    "    profile[:168].P_BESS_to_Load,\n",
    "    labels=[\n",
    "        'P_PV_to_Load',\n",
    "        'P_Grid_to_Load',\n",
    "        'P_BESS_to_Load',\n",
    "    ],\n",
    ")\n",
    "plt.plot(profile[:168].Hour, profile[:168].sum_power_flows, linestyle= 'dashdot', linewidth= 2)\n",
    "plt.legend(loc='upper left')\n"
   ]
  },
  {
   "cell_type": "code",
   "execution_count": null,
   "metadata": {},
   "outputs": [],
   "source": [
    "fig= plt.figure(\n",
    "    figsize= (25,8)\n",
    ")\n",
    "title= plt.title('P_PV: 10 MW; P_BESS: 5 MW; T_BESS: 4 hr')\n",
    "\n",
    "plt.stackplot(\n",
    "    profile[(week * 168):(week + 1) * 168].Hour,\n",
    "    profile[(week * 168):(week + 1) * 168].P_PV_to_Load,\n",
    "    profile[(week * 168):(week + 1) * 168].P_Grid_to_Load,\n",
    "    profile[(week * 168):(week + 1) * 168].P_BESS_to_Load,\n",
    "    labels=[\n",
    "        'P_PV_to_Load',\n",
    "        'P_Grid_to_Load',\n",
    "        'P_BESS_to_Load',\n",
    "    ],\n",
    ")\n",
    "plt.plot(profile[(week * 168):(week + 1) * 168].Hour, profile[(week * 168):(week + 1) * 168].sum_power_flows, linestyle= 'dashdot', linewidth= 2)\n",
    "plt.legend(loc='upper left')\n"
   ]
  },
  {
   "cell_type": "code",
   "execution_count": null,
   "metadata": {},
   "outputs": [],
   "source": [
    "fig= plt.figure(\n",
    "    figsize= (25,8)\n",
    ")\n",
    "title= plt.title('P_PV: 10 MW; P_BESS: 5 MW; T_BESS: 4 hr')\n",
    "\n",
    "plt.stackplot(\n",
    "    profile[(week * 168):(week + 1) * 168].Hour,\n",
    "    profile[(week * 168):(week + 1) * 168].P_PV_to_Load,\n",
    "    profile[(week * 168):(week + 1) * 168].P_PV_to_Grid,\n",
    "    profile[(week * 168):(week + 1) * 168].P_PV_to_BESS,\n",
    "    labels=[\n",
    "        'P_PV_to_Load',\n",
    "        'P_PV_to_Grid',\n",
    "        'P_PV_to_BESS',\n",
    "    ],\n",
    ")\n",
    "plt.plot(profile[(week * 168):(week + 1) * 168].Hour, profile[(week * 168):(week + 1) * 168].sum_power_flows, linestyle= 'dashdot', linewidth= 2)\n",
    "plt.legend(loc='upper left')\n"
   ]
  },
  {
   "cell_type": "code",
   "execution_count": null,
   "metadata": {},
   "outputs": [],
   "source": [
    "# Assuming 'Hour', 'P_PV_to_BESS', 'P_BESS_to_Load', 'P_BESS_to_Grid', 'P_Grid_to_BESS', 'SoC' are columns in profile\n",
    "fig, ax1 = plt.subplots(figsize=(25,8))\n",
    "title= plt.title('P_PV: 10 MW; P_BESS: 5 MW; T_BESS: 4 hr')\n",
    "\n",
    "# Primary y-axis\n",
    "ax1.plot(profile[:168]['Hour'], profile[:168]['P_PV_to_BESS'], label='P_PV_to_BESS')\n",
    "ax1.plot(profile[:168]['Hour'], profile[:168]['P_BESS_to_Load'], label='P_BESS_to_Load')\n",
    "ax1.plot(profile[:168]['Hour'], profile[:168]['P_BESS_to_Grid'], label='P_BESS_to_Grid')\n",
    "ax1.plot(profile[:168]['Hour'], profile[:168]['P_Grid_to_BESS'], label='P_Grid_to_BESS')\n",
    "ax1.set_xlabel('Hour')\n",
    "ax1.set_ylabel('Flows in kW')\n",
    "\n",
    "# Create a twin Axes sharing the xaxis\n",
    "ax2 = ax1.twinx()\n",
    "ax2.plot(profile[:168]['Hour'], profile[:168]['SoC'], 'b', label='SoC', linestyle= 'dashdot')\n",
    "ax3 = ax1.twinx()\n",
    "ax3.plot(data[:168]['Hour'], data[:168]['Price'], 'red', label='Price', linestyle= ':')\n",
    "\n",
    "ax2.set_ylabel('SoC', color='b')\n",
    "ax2.tick_params(colors= 'b')\n",
    "ax3.set_ylabel('Price', color= 'r')\n",
    "ax3.tick_params(colors= 'r')\n",
    "\n",
    "# Combine legends for both axes\n",
    "lines, labels = ax1.get_legend_handles_labels()\n",
    "lines2, labels2 = ax2.get_legend_handles_labels()\n",
    "ax2.legend(lines + lines2, labels + labels2, loc='upper left')\n",
    "\n",
    "plt.show()\n"
   ]
  },
  {
   "cell_type": "code",
   "execution_count": null,
   "metadata": {},
   "outputs": [],
   "source": [
    "# Assuming 'Hour', 'P_PV_to_BESS', 'P_BESS_to_Load', 'P_BESS_to_Grid', 'P_Grid_to_BESS', 'SoC' are columns in profile\n",
    "fig, ax1 = plt.subplots(figsize=(25,8))\n",
    "title= plt.title('P_PV: 10 MW; P_BESS: 5 MW; T_BESS: 4 hr')\n",
    "\n",
    "# Primary y-axis\n",
    "ax1.plot(profile[(week * 168):(week + 1) * 168]['Hour'], profile[(week * 168):(week + 1) * 168]['P_PV_to_BESS'], label='P_PV_to_BESS')\n",
    "ax1.plot(profile[(week * 168):(week + 1) * 168]['Hour'], profile[(week * 168):(week + 1) * 168]['P_BESS_to_Load'], label='P_BESS_to_Load')\n",
    "ax1.plot(profile[(week * 168):(week + 1) * 168]['Hour'], profile[(week * 168):(week + 1) * 168]['P_BESS_to_Grid'], label='P_BESS_to_Grid')\n",
    "ax1.plot(profile[(week * 168):(week + 1) * 168]['Hour'], profile[(week * 168):(week + 1) * 168]['P_Grid_to_BESS'], label='P_Grid_to_BESS')\n",
    "ax1.set_xlabel('Hour')\n",
    "ax1.set_ylabel('Flows in kW')\n",
    "\n",
    "# Create a twin Axes sharing the xaxis\n",
    "ax2 = ax1.twinx()\n",
    "ax2.plot(profile[(week * 168):(week + 1) * 168]['Hour'], profile[(week * 168):(week + 1) * 168]['SoC'], 'b', label='SoC', linestyle= 'dashdot')\n",
    "ax3 = ax1.twinx()\n",
    "ax3.plot(data[(week * 168):(week + 1) * 168]['Hour'], data[(week * 168):(week + 1) * 168]['Price'], 'red', label='Price', linestyle= ':')\n",
    "ax2.set_ylabel('SoC', color='b')\n",
    "ax2.tick_params(colors= 'b')\n",
    "ax3.set_ylabel('Price', color= 'r')\n",
    "ax3.tick_params(colors= 'r')\n",
    "\n",
    "# Combine legends for both axes\n",
    "lines, labels = ax1.get_legend_handles_labels()\n",
    "lines2, labels2 = ax2.get_legend_handles_labels()\n",
    "ax2.legend(lines + lines2, labels + labels2, loc='upper left')\n",
    "\n",
    "plt.show()\n"
   ]
  }
 ],
 "metadata": {
  "kernelspec": {
   "display_name": "freqpy_venv",
   "language": "python",
   "name": "freqpy_venv"
  },
  "language_info": {
   "codemirror_mode": {
    "name": "ipython",
    "version": 3
   },
   "file_extension": ".py",
   "mimetype": "text/x-python",
   "name": "python",
   "nbconvert_exporter": "python",
   "pygments_lexer": "ipython3",
   "version": "3.10.5"
  }
 },
 "nbformat": 4,
 "nbformat_minor": 2
}
