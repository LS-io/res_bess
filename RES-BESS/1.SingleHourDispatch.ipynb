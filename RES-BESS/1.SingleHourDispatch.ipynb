{
 "cells": [
  {
   "cell_type": "code",
   "execution_count": null,
   "metadata": {},
   "outputs": [],
   "source": [
    "import pandas as pd\n",
    "import pyomo.environ as pe\n",
    "import pyomo.opt as po"
   ]
  },
  {
   "cell_type": "markdown",
   "metadata": {},
   "source": [
    "### Formulation of the (economic) Dispatch problem\n",
    "* Packages used:\n",
    "    * Pyomo\n",
    "    * ...\n",
    "\n",
    "#### 1. Parameters\n",
    "* PV-specific:\n",
    "    * *None*\n",
    "* BESS-specific:\n",
    "    * Max Storage Capacity\n",
    "    * Charging Capacity == Discharge Capacity\n",
    "    * Charge-Efficiency\n",
    "    * Discharge-Efficiency\n",
    "    * *Roundtrip Efficiency\n",
    "    * Mac SoC\n",
    "    * Min SoC\n",
    "* Other system-specific parameters:\n",
    "    * Inverter efficiency\n",
    "    * PV-BESS system cost\n",
    "    * Max Grid Volume\n",
    "* Other parameters that the dispatcher requires:\n",
    "    * Profit {calculated from the power flows and electricity price at each time-step *t*}\n",
    "    * State-of-Charge [SoC] {traced/calculated from the SoC[*t-1*] and power flows to/from BESS}\n",
    "\n",
    "#### 2. Decision Variables\n",
    "*Decision variables in the dispatch model are not the same as in the global optimisation problem. In the dispatch problem, the decision variables are the different power flows at each time-step *t*\n",
    "* PV_to_Load\n",
    "* PV_to_BESS\n",
    "* PV_curtailment\n",
    "* PV_to_Grid\n",
    "* BESS_to_Load\n",
    "* BESS_to_Grid\n",
    "* Grid_to_Load\n",
    "* Grid_to_BESS\n",
    "\n",
    "#### 3. Objective Function\n",
    "* MinimiseCost = \n",
    "    $$\n",
    "    min( \n",
    "        \\sum_{t=o}^{8760} (\n",
    "            C_{grid}^i[t] * P_{Grid-to-Load}[t]                                                     %cost of electricity from grid\n",
    "            + C_{PV+BESS}^i[t] * [P_{PV-to-Load}[t] + P_{BESS-to-Load}[t]]                          %cost of electricity from PV-BESS system\n",
    "            + C_{penalty}^{Curtailment} * P_{Curtailment}[t]                                        %penalty for curtailing PV production\n",
    "            - C_{grid}^i[t] * [[P_{BESS-to-Grid}[t] + P_{PV-to-Grid}[t] ] - P_{Grid-to-BESS}[t]]    %profit from energy arbitrage\n",
    "        )\n",
    "    )\n",
    "    $$\n",
    "\n",
    "#### 4. Constraints\n",
    "* Load fulfilment\n",
    "    $$\n",
    "        P_{Load}[t] = P_{PV-to-Load}[t] + P_{BESS-to-Load}[t] + P_{Grid}[t]\n",
    "    $$\n",
    "* Solar production\n",
    "    $$\n",
    "        P_{PV production}[t] = \\frac{P_{PV-to-Load}[t] + P_{PV-to-BESS}[t] + P_{PV-to-Grid}[t]}{\\xi_{inverter}} + P_{Curtailment}[t]\n",
    "    $$\n",
    "* SoC range\n",
    "    $$\n",
    "        SoC^{min} < SoC[t] < SoC^{max} ; \\qquad \\forall \\ \\ t\n",
    "    $$\n",
    "* SoC tracking\n",
    "    $$\n",
    "        SoC[t] = (\n",
    "            SoC[t-1]\n",
    "            + ( P_{PV-to-BESS}[t] + P_{Grid-to-BESS}[t] * \\xi_{charge} ) * \\Delta{t}\n",
    "            - \\frac{P_{BESS-to-Load}[t] + P_{BESS-to-Grid}[t]}{\\xi_{discharge}} * \\Delta{t}\n",
    "        )\n",
    "    $$\n",
    "##### 4.1 *Additional* Constraints\n",
    "* Limiting power flows BESS-to-Grid and PV-to-Grid in energy arbitrage\n",
    "    $$\n",
    "        P_{PV-to-Grid}[t] + P_{BESS-to-Grid}[t] <= PowerFlowLimit\n",
    "    $$\n",
    "* Limiting the BESS charging to either charge or discharge in the same hour\n",
    "    $$\n",
    "        \\forall \\quad t; \\qquad (P_{PV-to-BESS}[t], P_{Grid-to-BESS}[t])*ChargingState\\ \\ AND\\ \\ (P_{BESS-to-Load}[t], P_{BESS-to-Grid}[t])*(1-ChargingState)\n",
    "    $$\n",
    "    * Subject to:\n",
    "    * SoC tracking\n",
    "    $$\n",
    "        SoC[t] = (\n",
    "            SoC[t-1]\n",
    "            + ( P_{PV-to-BESS}[t] + P_{Grid-to-BESS}[t] * \\xi_{charge} * ChargingState) * \\Delta{t}\n",
    "            - \\frac{P_{BESS-to-Load}[t] + P_{BESS-to-Grid}[t]}{\\xi_{discharge}} * (1-ChargingState) * \\Delta{t}\n",
    "        )\n",
    "    $$\n",
    "\n",
    "___\n",
    "### Implementation notes\n",
    "* General approach (for now) is to use the *ConcreteModel*\n",
    "    * If *AbstractModel*, how could the model parameters,variables,etc be populated from the datafile OR the inputs of the model\n",
    "    * *Why?* --> In the future, the model could be adapted to be compiled and to describe different kinds of and setups of energy systems with different technologies\n",
    "* Be mindful of how the data is loaded and called in the model to avoid integration errors (like the previous error with numpy)\n",
    "* Convert the model to kW (previously MW) to avoid issues/error with integer to float conversion\n",
    "* *OBS*: SoC[*t*] needs a previous value, so we need to artificially override the initial SoC (or implement an SoC for *t* = -1)\n",
    "* In future implementations/improvements, try converting the time-step to seconds/minutes.\n",
    "    * *Reason* is to have a more realistic dispatch profile where BESS can charge and discharge in the same hour\n",
    "* To keep in mind for validation\n",
    "    * I could also run it with different curtailment penalties and see their effect\n",
    "    * Underlying difference in optimisation problem when optimising only each time-step vs. optimising a time series window"
   ]
  },
  {
   "cell_type": "markdown",
   "metadata": {},
   "source": [
    "The problem will be defined as a worker/tasks set, where the power flows are different \"workers\" and hours in day are differet \"tasks\"\n",
    "The values in each cell has to be the cost, so I will eventually have to make some sort of a generator to populate it quickly\n",
    "\n",
    "| Flow \\ Hour |  1 |  2 |  3 |  4 |  5 |  6 |  7 |  8 |  9 | 10 | ... | 48 | H\n",
    "|:---------------:|---:|---:|---:|---:|---:|---:|---:|---:|---:|---:|---:|---:|---:\n",
    "| P_PV-to-BESS      | $$p_{f, h}$$ |  $$p_{f, h}$$ |  $$p_{f, h}$$ | $$p_{f, h}$$ | $$p_{f, h}$$ | $$p_{f, h}$$ | $$p_{f, h}$$ | $$p_{f, h}$$ | $$p_{f, h}$$ | $$p_{f, h}$$ | ... | - |\n",
    "| P_PV-to-Load      | $$p_{f, h}$$ |  $$p_{f, h}$$ |  $$p_{f, h}$$ | $$p_{f, h}$$ | $$p_{f, h}$$ | $$p_{f, h}$$ | $$p_{f, h}$$ | $$p_{f, h}$$ | $$p_{f, h}$$ | $$p_{f, h}$$ | ... | - |\n",
    "| P_BESS-to-Load    | $$p_{f, h}$$ |  $$p_{f, h}$$ |  $$p_{f, h}$$ | $$p_{f, h}$$ | $$p_{f, h}$$ | $$p_{f, h}$$ | $$p_{f, h}$$ | $$p_{f, h}$$ | $$p_{f, h}$$ | $$p_{f, h}$$ | ... | - |\n",
    "| ...               | ... | ... | ... | ... | ... | ... | ... | ... | ... | ... | ... | - |\n",
    "| P_n               | - |  - |  - |  - | - |  - | - | - | - | - | - | - |\n",
    "**F**\n",
    "\n",
    "Subject to:\n",
    "$$\n",
    "minimize[\n",
    "    \\quad\n",
    "    \\sum_{h=1}^{H={1}}\\ (\n",
    "        \\quad\n",
    "        \\sum_{f=1}^{F}\\ (\\ P_{f, h}\\  *\\  Cost_{f, h}\\ )\n",
    "        \\quad\n",
    "    )\n",
    "    \\\n",
    "]\n",
    "$$\n",
    "or shorthened for 1 hour interval:\n",
    "| Flow \\ Hour |  1 |\n",
    "|:---------------:|---:|\n",
    "| P_PV-to-BESS      | $$p_{f_1}$$ |\n",
    "| P_PV-to-Load      | $$p_{f_2}$$ |\n",
    "| P_BESS-to-Load    | $$p_{f_3}$$ |\n",
    "| ...               | ... |\n",
    "| P_n               | $$p_{f_n}$$ |\n",
    "**F**\n",
    "$$\n",
    "minimize\n",
    "    \\ \\sum_{f=1}^{F}\\ (\\ P_{f}\\ *\\ Cost_{f}\\ )\n",
    "\n",
    "$$"
   ]
  },
  {
   "cell_type": "code",
   "execution_count": null,
   "metadata": {},
   "outputs": [],
   "source": [
    "## Primary data parameters of our scenarios\n",
    "pv_price= 80                #https://data.nrel.gov/submissions/53 in EUR/kW\n",
    "bess_price= 200             #https://doi.org/10.1016/j.solener.2018.08.061 in EUR/kWh, adjusted for price decreases\n",
    "pv_opex= 17                 #EUR/kWh ->reference in excel\n",
    "bess_opex= 0.125            #EUR/kWh ->reference in excel\n",
    "\n",
    "pv_co2= 33                  #kgCO2eq/kW_powerDC ->reference in excel\n",
    "bess_co2= 100               #kgCO2eq/kWh_capacity ->reference in excel\n",
    "pv_opex_co2= 0              #kgCO2eq/kW_powerDC ->assumption\n",
    "bess_opex_co2= 0            #kgCO2eq/kW_powerDC ->assumption\n",
    "discount_rate= 0.0485       #assumption\n",
    "lifetime_project= 32        #for the project lifetime\n",
    "lifetime_bess= 8            #for the BESS lifetime\n",
    "degradation_rate= 0.025     #assumption (based on reaching 80% SoH in 8 years)\n",
    "\n",
    "params = {\n",
    "    'pv_price':         pv_price,\n",
    "    'bess_price':       bess_price,\n",
    "    'pv_opex':          pv_opex,\n",
    "    'bess_opex':        bess_opex,\n",
    "    'pv_co2':           pv_co2,\n",
    "    'bess_co2':         bess_co2,\n",
    "    'pv_opex_co2':      pv_opex_co2,\n",
    "    'bess_opex_co2':    bess_opex_co2,\n",
    "    'discount_rate':    discount_rate,\n",
    "    'lifetime_project': lifetime_project,\n",
    "    'lifetime_bess':    lifetime_bess,\n",
    "    'degradation_rate': degradation_rate\n",
    "}"
   ]
  },
  {
   "cell_type": "code",
   "execution_count": null,
   "metadata": {},
   "outputs": [],
   "source": [
    "p_solar=    0.01                # 1MW = 1000kW\n",
    "p_bess=     5000                # 5MW = 5000kW\n",
    "t_bess=     4                   # 4 hour BESS duration at nominal power\n",
    "e_bess=     p_bess * t_bess     # determining the BESS size in kWh\n",
    "e_bess"
   ]
  },
  {
   "cell_type": "code",
   "execution_count": null,
   "metadata": {},
   "outputs": [],
   "source": [
    "hour= 1\n",
    "\n",
    "'''\n",
    "Convert flows to numerical values:\n",
    "1-3 ->  flows to Load\n",
    "1   P_PV_to_Load,\n",
    "2   P_BESS_to_Load,\n",
    "3   P_Grid_to_Load,\n",
    "\n",
    "4-5 ->  flows to BESS\n",
    "4   P_PV_to_BESS,\n",
    "5   P_Grid_to_BESS,\n",
    "\n",
    "6-7 ->  flows to Grid\n",
    "6   P_PV_to_Grid,\n",
    "7   P_BESS_to_Grid,\n",
    "\n",
    "8   ->  Curtailment\n",
    "8   P_PV_curtailment,\n",
    "'''\n",
    "flows=  [\n",
    "    'P_PV_to_Load',\n",
    "    'P_PV_to_BESS',\n",
    "    'P_PV_curtailment',\n",
    "    'P_PV_to_Grid',\n",
    "    'P_BESS_to_Load',\n",
    "    'P_BESS_to_Grid',\n",
    "    'P_Grid_to_Load',\n",
    "    'P_Grid_to_BESS',\n",
    "]\n",
    "costs= {\n",
    "    'P_PV_to_Load'      : 3/1000,       #Cost to send PV to Load\n",
    "    'P_PV_to_BESS'      : 3/1000,       #Cost to charge from PV\n",
    "    'P_PV_to_Grid'      : (24-3)/1000,  #Cost to send PV to Grid\n",
    "    'P_PV_curtailment'  : 1000/1000,    #Cost/Penalty of Curtailment\n",
    "    'P_BESS_to_Load'    : 6/1000,       #Cost to discharge BESS to Load\n",
    "    'P_BESS_to_Grid'    : (24-6)/1000,  #Cost to discharge BESS to Grid\n",
    "    'P_Grid_to_Load'    : 24/1000,      #Cost to supply Load from the grid\n",
    "    'P_Grid_to_BESS'    : 24/1000,      #Cost to charge BESS from the grid\n",
    "}\n",
    "\n",
    "demand=             3000\n",
    "pv_production=      3366 * p_solar\n",
    "grid_production=    1000000\n",
    "costs"
   ]
  },
  {
   "cell_type": "code",
   "execution_count": null,
   "metadata": {},
   "outputs": [],
   "source": [
    "model= pe.ConcreteModel()"
   ]
  },
  {
   "cell_type": "code",
   "execution_count": null,
   "metadata": {},
   "outputs": [],
   "source": [
    "#model.flows=    pe.Set(initialize= flows)"
   ]
  },
  {
   "cell_type": "code",
   "execution_count": null,
   "metadata": {},
   "outputs": [],
   "source": [
    "soc_initial=            int(e_bess * 0.5)\n",
    "efficiency_charge=      0.98\n",
    "efficiency_discharge=   0.96\n",
    "efficiency_inverter=    0.97"
   ]
  },
  {
   "cell_type": "code",
   "execution_count": null,
   "metadata": {},
   "outputs": [],
   "source": [
    "model.grid_production=      pe.Param(initialize= grid_production)\n",
    "model.demand=               pe.Param(initialize= demand)\n",
    "model.pv_production=        pe.Param(initialize= pv_production)\n",
    "#model.costs=                pe.Param(model.flows, initialize= costs, default= 1000)\n",
    "model.SoC_initial=          pe.Param(initialize= soc_initial)\n",
    "model.Efficiency_inverter=  pe.Param(initialize= efficiency_inverter)\n",
    "model.Efficiency_charge=    pe.Param(initialize= efficiency_charge)\n",
    "model.Efficiency_discharge= pe.Param(initialize= efficiency_discharge)\n",
    "model.SoC=                  pe.Param(initialize= soc_initial)"
   ]
  },
  {
   "cell_type": "code",
   "execution_count": null,
   "metadata": {},
   "outputs": [],
   "source": [
    "print(\"Initialized Parameters:\")\n",
    "for param_name, param_obj in model.component_map(pe.Param, active=True).items():\n",
    "    if param_name == 'SoC_initial':\n",
    "        #for flow in model.flows:\n",
    "        #    print(f\"{param_name}: {param_obj[flow]}\")\n",
    "        print(f\"{param_name}: {param_obj.value}\")"
   ]
  },
  {
   "cell_type": "code",
   "execution_count": null,
   "metadata": {},
   "outputs": [],
   "source": [
    "#model.p=    pe.Var(model.flows, domain= pe.Reals, bounds= (0, 1000000))\n",
    "model.P_PV_to_Load=     pe.Var(domain= pe.Reals, bounds= (0, 1000000))\n",
    "model.P_PV_to_BESS=     pe.Var(domain= pe.Reals, bounds= (0, 1000000))\n",
    "model.P_PV_curtailment= pe.Var(domain= pe.Reals, bounds= (0, 1000000))\n",
    "model.P_PV_to_Grid=     pe.Var(domain= pe.Reals, bounds= (0, 1000000))\n",
    "model.P_BESS_to_Load=   pe.Var(domain= pe.Reals, bounds= (0, 1000000))\n",
    "model.P_BESS_to_Grid=   pe.Var(domain= pe.Reals, bounds= (0, 1000000))\n",
    "model.P_Grid_to_Load=   pe.Var(domain= pe.Reals, bounds= (0, 1000000))\n",
    "model.P_Grid_to_BESS=   pe.Var(domain= pe.Reals, bounds= (0, 1000000))"
   ]
  },
  {
   "cell_type": "code",
   "execution_count": null,
   "metadata": {},
   "outputs": [],
   "source": [
    "model.display()"
   ]
  },
  {
   "cell_type": "code",
   "execution_count": null,
   "metadata": {},
   "outputs": [],
   "source": [
    "minCosts= (\n",
    "    model.P_PV_to_Load * costs['P_PV_to_Load']\n",
    "    + model.P_BESS_to_Load * costs['P_BESS_to_Load']\n",
    "    + model.P_Grid_to_Load * costs['P_Grid_to_Load']\n",
    "    + model.P_PV_curtailment * costs['P_PV_curtailment']\n",
    "    + model.P_Grid_to_BESS * costs['P_Grid_to_BESS']\n",
    "    - model.P_PV_to_Grid * costs['P_PV_to_Grid']\n",
    "    - model.P_BESS_to_Grid * costs['P_BESS_to_Grid']\n",
    ")\n",
    "model.objective=    pe.Objective(\n",
    "    sense=  pe.minimize,\n",
    "    expr=   minCosts\n",
    ")"
   ]
  },
  {
   "cell_type": "code",
   "execution_count": null,
   "metadata": {},
   "outputs": [],
   "source": [
    "model.display()"
   ]
  },
  {
   "cell_type": "code",
   "execution_count": null,
   "metadata": {},
   "outputs": [],
   "source": [
    "model.pprint()"
   ]
  },
  {
   "cell_type": "code",
   "execution_count": null,
   "metadata": {},
   "outputs": [],
   "source": [
    "'''\n",
    "1-3 ->  flows to Load\n",
    "1   P_PV_to_Load\n",
    "2   P_BESS_to_Load\n",
    "3   P_Grid_to_Load\n",
    "\n",
    "4-5 ->  flows to BESS\n",
    "4   P_PV_to_BESS\n",
    "5   P_Grid_to_BESS\n",
    "\n",
    "6-7 ->  flows to Grid\n",
    "6   P_PV_to_Grid\n",
    "7   P_BESS_to_Grid\n",
    "\n",
    "8   ->  Curtailment\n",
    "8   P_PV_curtailment\n",
    "'''\n",
    "loadFullfilment=    model.P_PV_to_Load + model.P_BESS_to_Load + model.P_Grid_to_Load == demand\n",
    "pvProduction=       (model.P_PV_to_Load + model.P_PV_to_BESS + model.P_PV_to_Grid)/model.Efficiency_inverter + model.P_PV_curtailment == pv_production\n",
    "#socRangeMin=        (e_bess * 0.1) <= model.SoC\n",
    "#socRangeMax=        model.SoC <= (e_bess * 0.9)\n",
    "arbitrageFlow=      (model.P_BESS_to_Grid + model.P_PV_to_Grid) <= (p_solar * 1000000 + p_bess)\n",
    "#socTracker=         model.SoC == model.SoC_initial + (model.P_PV_to_BESS + model.P_Grid_to_BESS) * model.Efficiency_charge - (model.P_BESS_to_Load + model.P_BESS_to_Grid)/ model.Efficiency_discharge\n",
    "#socTracker=         model.SoC_initial.value >= (((model.P_PV_to_BESS + model.P_Grid_to_BESS) * model.Efficiency_charge) * model.Efficiency_inverter - ((model.P_BESS_to_Load + model.P_BESS_to_Grid)/ model.Efficiency_discharge) * model.Efficiency_inverter)\n",
    "socTrackerSimple=   (model.P_PV_to_BESS + model.P_Grid_to_BESS - model.P_BESS_to_Load - model.P_BESS_to_Grid) <= model.SoC_initial"
   ]
  },
  {
   "cell_type": "code",
   "execution_count": null,
   "metadata": {},
   "outputs": [],
   "source": [
    "model.fullfilLoad=      pe.Constraint(expr= loadFullfilment)\n",
    "model.allocatePV=       pe.Constraint(expr= pvProduction)\n",
    "model.arbitrageLimit=   pe.Constraint(expr= arbitrageFlow)\n",
    "#model.socRangeMin=     pe.Constraint(expr= socRangeMin)\n",
    "#model.socRangeMax=     pe.Constraint(expr= socRangeMax)\n",
    "model.socTracking=      pe.Constraint(expr= socTrackerSimple)"
   ]
  },
  {
   "cell_type": "code",
   "execution_count": null,
   "metadata": {},
   "outputs": [],
   "source": [
    "model.display()"
   ]
  },
  {
   "cell_type": "code",
   "execution_count": null,
   "metadata": {},
   "outputs": [],
   "source": [
    "solver=     pe.SolverFactory('glpk')\n",
    "results=    solver.solve(\n",
    "    model,\n",
    "    #tee= True\n",
    ")\n",
    "results.solver.status"
   ]
  },
  {
   "cell_type": "code",
   "execution_count": null,
   "metadata": {},
   "outputs": [],
   "source": [
    "results"
   ]
  },
  {
   "cell_type": "code",
   "execution_count": null,
   "metadata": {},
   "outputs": [],
   "source": [
    "print(pe.value(model.objective))"
   ]
  },
  {
   "cell_type": "code",
   "execution_count": null,
   "metadata": {},
   "outputs": [],
   "source": [
    "for var in model.component_data_objects(pe.Var, active=True):\n",
    "    print('------------------------------------------------------------')\n",
    "    print(f\"{var.name}: {pe.value(var)}\")"
   ]
  },
  {
   "cell_type": "code",
   "execution_count": null,
   "metadata": {},
   "outputs": [],
   "source": []
  }
 ],
 "metadata": {
  "kernelspec": {
   "display_name": "venv_PaperA",
   "language": "python",
   "name": "venv_papera"
  },
  "language_info": {
   "codemirror_mode": {
    "name": "ipython",
    "version": 3
   },
   "file_extension": ".py",
   "mimetype": "text/x-python",
   "name": "python",
   "nbconvert_exporter": "python",
   "pygments_lexer": "ipython3",
   "version": "3.10.5"
  }
 },
 "nbformat": 4,
 "nbformat_minor": 2
}
